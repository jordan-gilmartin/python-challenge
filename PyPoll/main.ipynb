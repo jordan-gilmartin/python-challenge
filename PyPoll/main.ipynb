{
 "cells": [
  {
   "cell_type": "code",
   "execution_count": 1,
   "metadata": {},
   "outputs": [],
   "source": [
    "#Dependencies\n",
    "import os\n",
    "import csv"
   ]
  },
  {
   "cell_type": "code",
   "execution_count": 2,
   "metadata": {},
   "outputs": [],
   "source": [
    "#File location\n",
    "csvpath = os.path.join('Resources/election_data.csv')"
   ]
  },
  {
   "cell_type": "code",
   "execution_count": 3,
   "metadata": {},
   "outputs": [],
   "source": [
    "# Create lists for the variables\n",
    "votes = []\n",
    "county = []\n",
    "candidates = []\n",
    "khan = []\n",
    "correy = []\n",
    "li = []\n",
    "otooley = []\n",
    "\n"
   ]
  },
  {
   "cell_type": "code",
   "execution_count": 4,
   "metadata": {},
   "outputs": [],
   "source": [
    "with open(csvpath, newline='') as csvfile:\n",
    "    csvreader = csv.reader(csvfile, delimiter=',')\n",
    "    csv_header = next(csvreader)\n",
    "    \n",
    "    for row in csvreader:\n",
    "        votes.append(int(row[0]))\n",
    "        county.append(row[1])\n",
    "        candidates.append(row[2])\n",
    "    \n",
    "    #Total Votes\n",
    "    total_votes = (len(votes))\n",
    "    \n",
    "    #Votes by Candidate\n",
    "    for candidate in candidates:\n",
    "        if candidate == \"Khan\":\n",
    "            khan.append(candidates)\n",
    "            khan_votes = len(khan)\n",
    "        elif candidate == \"Correy\":\n",
    "            correy.append(candidates)\n",
    "            correy_votes = len(correy)\n",
    "        elif candidate == \"Li\":\n",
    "            li.append(candidates)\n",
    "            li_votes = len(li)\n",
    "        else:\n",
    "            otooley.append(candidates)\n",
    "            otooley_votes = len(otooley)\n",
    "    \n",
    "    #Percentages\n",
    "    khan_percent = round(((khan_votes / total_votes) * 100), 2)\n",
    "    correy_percent = round(((correy_votes / total_votes) * 100), 2)\n",
    "    li_percent = round(((li_votes / total_votes) * 100), 2)\n",
    "    otooley_percent = round(((otooley_votes / total_votes) * 100), 2)\n",
    "    \n",
    "    #Winner \n",
    "    if khan_percent > max(correy_percent, li_percent, otooley_percent):\n",
    "        winner = \"Khan\"\n",
    "    elif correy_percent > max(khan_percent, li_percent, otooley_percent):\n",
    "        winner = \"Correy\"  \n",
    "    elif li_percent > max(correy_percent, khan_percent, otooley_percent):\n",
    "        winner = \"Li\"\n",
    "    else:\n",
    "        winner = \"O'Tooley\"\n"
   ]
  },
  {
   "cell_type": "code",
   "execution_count": 6,
   "metadata": {},
   "outputs": [
    {
     "name": "stdout",
     "output_type": "stream",
     "text": [
      "Election Results\n",
      "-----------------------------------\n",
      "Total Votes: 3521001\n",
      "-----------------------------------\n",
      "Khan: 63.0% (2218231)\n",
      "Correy: 20.0% (704200)\n",
      "Li: 14.0% (492940)\n",
      "O'Tooley: 3.0% (105630)\n",
      "-----------------------------------\n",
      "Winner: Khan\n",
      "-----------------------------------\n"
     ]
    }
   ],
   "source": [
    "#Print Statements\n",
    "print(f\"Election Results\")\n",
    "print(f\"-----------------------------------\")\n",
    "print(f\"Total Votes: {total_votes}\")\n",
    "print(f\"-----------------------------------\")\n",
    "print(f\"Khan: {khan_percent}% ({khan_votes})\")\n",
    "print(f\"Correy: {correy_percent}% ({correy_votes})\")\n",
    "print(f\"Li: {li_percent}% ({li_votes})\")\n",
    "print(f\"O'Tooley: {otooley_percent}% ({otooley_votes})\")\n",
    "print(f\"-----------------------------------\")\n",
    "print(f\"Winner: {winner}\")\n",
    "print(f\"-----------------------------------\")\n"
   ]
  },
  {
   "cell_type": "code",
   "execution_count": null,
   "metadata": {},
   "outputs": [],
   "source": []
  }
 ],
 "metadata": {
  "kernelspec": {
   "display_name": "Python (PythonData)",
   "language": "python",
   "name": "myenv"
  },
  "language_info": {
   "codemirror_mode": {
    "name": "ipython",
    "version": 3
   },
   "file_extension": ".py",
   "mimetype": "text/x-python",
   "name": "python",
   "nbconvert_exporter": "python",
   "pygments_lexer": "ipython3",
   "version": "3.8.5"
  }
 },
 "nbformat": 4,
 "nbformat_minor": 4
}
