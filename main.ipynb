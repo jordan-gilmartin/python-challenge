{
 "cells": [
  {
   "cell_type": "code",
   "execution_count": 1,
   "metadata": {},
   "outputs": [],
   "source": [
    "# Dependencies\n",
    "import os \n",
    "import csv\n",
    "import pandas as pd"
   ]
  },
  {
   "cell_type": "code",
   "execution_count": 2,
   "metadata": {},
   "outputs": [],
   "source": [
    "# File location\n",
    "budget_csv = os.path.join('Resources/budget_data.csv')"
   ]
  },
  {
   "cell_type": "code",
   "execution_count": 3,
   "metadata": {},
   "outputs": [
    {
     "data": {
      "text/html": [
       "<div>\n",
       "<style scoped>\n",
       "    .dataframe tbody tr th:only-of-type {\n",
       "        vertical-align: middle;\n",
       "    }\n",
       "\n",
       "    .dataframe tbody tr th {\n",
       "        vertical-align: top;\n",
       "    }\n",
       "\n",
       "    .dataframe thead th {\n",
       "        text-align: right;\n",
       "    }\n",
       "</style>\n",
       "<table border=\"1\" class=\"dataframe\">\n",
       "  <thead>\n",
       "    <tr style=\"text-align: right;\">\n",
       "      <th></th>\n",
       "      <th>Date</th>\n",
       "      <th>Profit/Losses</th>\n",
       "    </tr>\n",
       "  </thead>\n",
       "  <tbody>\n",
       "    <tr>\n",
       "      <th>0</th>\n",
       "      <td>Jan-10</td>\n",
       "      <td>867884</td>\n",
       "    </tr>\n",
       "    <tr>\n",
       "      <th>1</th>\n",
       "      <td>Feb-10</td>\n",
       "      <td>984655</td>\n",
       "    </tr>\n",
       "    <tr>\n",
       "      <th>2</th>\n",
       "      <td>Mar-10</td>\n",
       "      <td>322013</td>\n",
       "    </tr>\n",
       "    <tr>\n",
       "      <th>3</th>\n",
       "      <td>Apr-10</td>\n",
       "      <td>-69417</td>\n",
       "    </tr>\n",
       "    <tr>\n",
       "      <th>4</th>\n",
       "      <td>May-10</td>\n",
       "      <td>310503</td>\n",
       "    </tr>\n",
       "    <tr>\n",
       "      <th>...</th>\n",
       "      <td>...</td>\n",
       "      <td>...</td>\n",
       "    </tr>\n",
       "    <tr>\n",
       "      <th>81</th>\n",
       "      <td>Oct-16</td>\n",
       "      <td>102685</td>\n",
       "    </tr>\n",
       "    <tr>\n",
       "      <th>82</th>\n",
       "      <td>Nov-16</td>\n",
       "      <td>795914</td>\n",
       "    </tr>\n",
       "    <tr>\n",
       "      <th>83</th>\n",
       "      <td>Dec-16</td>\n",
       "      <td>60988</td>\n",
       "    </tr>\n",
       "    <tr>\n",
       "      <th>84</th>\n",
       "      <td>Jan-17</td>\n",
       "      <td>138230</td>\n",
       "    </tr>\n",
       "    <tr>\n",
       "      <th>85</th>\n",
       "      <td>Feb-17</td>\n",
       "      <td>671099</td>\n",
       "    </tr>\n",
       "  </tbody>\n",
       "</table>\n",
       "<p>86 rows × 2 columns</p>\n",
       "</div>"
      ],
      "text/plain": [
       "      Date  Profit/Losses\n",
       "0   Jan-10         867884\n",
       "1   Feb-10         984655\n",
       "2   Mar-10         322013\n",
       "3   Apr-10         -69417\n",
       "4   May-10         310503\n",
       "..     ...            ...\n",
       "81  Oct-16         102685\n",
       "82  Nov-16         795914\n",
       "83  Dec-16          60988\n",
       "84  Jan-17         138230\n",
       "85  Feb-17         671099\n",
       "\n",
       "[86 rows x 2 columns]"
      ]
     },
     "execution_count": 3,
     "metadata": {},
     "output_type": "execute_result"
    }
   ],
   "source": [
    "df = pd.read_csv(budget_csv)\n",
    "df"
   ]
  },
  {
   "cell_type": "code",
   "execution_count": 4,
   "metadata": {},
   "outputs": [],
   "source": [
    "# Create lists for the variables\n",
    "months = []\n",
    "profit = []\n",
    "monthly_profit_change = []"
   ]
  },
  {
   "cell_type": "code",
   "execution_count": 6,
   "metadata": {},
   "outputs": [],
   "source": [
    "# Open csv file\n",
    "with open(budget_csv, newline=\"\") as budget:\n",
    "    csvreader = csv.reader(budget, delimiter=\",\") \n",
    "    csv_header = next(csvreader)  \n",
    "    \n",
    "    # Loop through rows\n",
    "    for row in csvreader: \n",
    "\n",
    "        # Add total months and total profit to lists\n",
    "        months.append(row[0])\n",
    "        profit.append(int(row[1]))\n",
    "        \n",
    "    # Loop through profit in order to get the monthly change in profit\n",
    "    for i in range(len(profit)-1):\n",
    "        \n",
    "        # Summing up monthly profit changes\n",
    "        monthly_profit_change.append(profit[i+1]-profit[i])\n",
    "        \n",
    "\n",
    "    \n"
   ]
  },
  {
   "cell_type": "code",
   "execution_count": 7,
   "metadata": {},
   "outputs": [
    {
     "data": {
      "text/plain": [
       "['Jan-10',\n",
       " 'Feb-10',\n",
       " 'Mar-10',\n",
       " 'Apr-10',\n",
       " 'May-10',\n",
       " 'Jun-10',\n",
       " 'Jul-10',\n",
       " 'Aug-10',\n",
       " 'Sep-10',\n",
       " 'Oct-10',\n",
       " 'Nov-10',\n",
       " 'Dec-10',\n",
       " 'Jan-11',\n",
       " 'Feb-11',\n",
       " 'Mar-11',\n",
       " 'Apr-11',\n",
       " 'May-11',\n",
       " 'Jun-11',\n",
       " 'Jul-11',\n",
       " 'Aug-11',\n",
       " 'Sep-11',\n",
       " 'Oct-11',\n",
       " 'Nov-11',\n",
       " 'Dec-11',\n",
       " 'Jan-12',\n",
       " 'Feb-12',\n",
       " 'Mar-12',\n",
       " 'Apr-12',\n",
       " 'May-12',\n",
       " 'Jun-12',\n",
       " 'Jul-12',\n",
       " 'Aug-12',\n",
       " 'Sep-12',\n",
       " 'Oct-12',\n",
       " 'Nov-12',\n",
       " 'Dec-12',\n",
       " 'Jan-13',\n",
       " 'Feb-13',\n",
       " 'Mar-13',\n",
       " 'Apr-13',\n",
       " 'May-13',\n",
       " 'Jun-13',\n",
       " 'Jul-13',\n",
       " 'Aug-13',\n",
       " 'Sep-13',\n",
       " 'Oct-13',\n",
       " 'Nov-13',\n",
       " 'Dec-13',\n",
       " 'Jan-14',\n",
       " 'Feb-14',\n",
       " 'Mar-14',\n",
       " 'Apr-14',\n",
       " 'May-14',\n",
       " 'Jun-14',\n",
       " 'Jul-14',\n",
       " 'Aug-14',\n",
       " 'Sep-14',\n",
       " 'Oct-14',\n",
       " 'Nov-14',\n",
       " 'Dec-14',\n",
       " 'Jan-15',\n",
       " 'Feb-15',\n",
       " 'Mar-15',\n",
       " 'Apr-15',\n",
       " 'May-15',\n",
       " 'Jun-15',\n",
       " 'Jul-15',\n",
       " 'Aug-15',\n",
       " 'Sep-15',\n",
       " 'Oct-15',\n",
       " 'Nov-15',\n",
       " 'Dec-15',\n",
       " 'Jan-16',\n",
       " 'Feb-16',\n",
       " 'Mar-16',\n",
       " 'Apr-16',\n",
       " 'May-16',\n",
       " 'Jun-16',\n",
       " 'Jul-16',\n",
       " 'Aug-16',\n",
       " 'Sep-16',\n",
       " 'Oct-16',\n",
       " 'Nov-16',\n",
       " 'Dec-16',\n",
       " 'Jan-17',\n",
       " 'Feb-17']"
      ]
     },
     "execution_count": 7,
     "metadata": {},
     "output_type": "execute_result"
    }
   ],
   "source": [
    "months"
   ]
  },
  {
   "cell_type": "code",
   "execution_count": 8,
   "metadata": {},
   "outputs": [
    {
     "data": {
      "text/plain": [
       "[867884,\n",
       " 984655,\n",
       " 322013,\n",
       " -69417,\n",
       " 310503,\n",
       " 522857,\n",
       " 1033096,\n",
       " 604885,\n",
       " -216386,\n",
       " 477532,\n",
       " 893810,\n",
       " -80353,\n",
       " 779806,\n",
       " -335203,\n",
       " 697845,\n",
       " 793163,\n",
       " 485070,\n",
       " 584122,\n",
       " 62729,\n",
       " 668179,\n",
       " 899906,\n",
       " 834719,\n",
       " 132003,\n",
       " 309978,\n",
       " -755566,\n",
       " 1170593,\n",
       " 252788,\n",
       " 1151518,\n",
       " 817256,\n",
       " 570757,\n",
       " 506702,\n",
       " -1022534,\n",
       " 475062,\n",
       " 779976,\n",
       " 144175,\n",
       " 542494,\n",
       " 359333,\n",
       " 321469,\n",
       " 67780,\n",
       " 471435,\n",
       " 565603,\n",
       " 872480,\n",
       " 789480,\n",
       " 999942,\n",
       " -1196225,\n",
       " 268997,\n",
       " -687986,\n",
       " 1150461,\n",
       " 682458,\n",
       " 617856,\n",
       " 824098,\n",
       " 581943,\n",
       " 132864,\n",
       " 448062,\n",
       " 689161,\n",
       " 800701,\n",
       " 1166643,\n",
       " 947333,\n",
       " 578668,\n",
       " 988505,\n",
       " 1139715,\n",
       " 1029471,\n",
       " 687533,\n",
       " -524626,\n",
       " 158620,\n",
       " 87795,\n",
       " 423389,\n",
       " 840723,\n",
       " 568529,\n",
       " 332067,\n",
       " 989499,\n",
       " 778237,\n",
       " 650000,\n",
       " -1100387,\n",
       " -174946,\n",
       " 757143,\n",
       " 445709,\n",
       " 712961,\n",
       " -1163797,\n",
       " 569899,\n",
       " 768450,\n",
       " 102685,\n",
       " 795914,\n",
       " 60988,\n",
       " 138230,\n",
       " 671099]"
      ]
     },
     "execution_count": 8,
     "metadata": {},
     "output_type": "execute_result"
    }
   ],
   "source": [
    "profit"
   ]
  },
  {
   "cell_type": "code",
   "execution_count": 9,
   "metadata": {},
   "outputs": [
    {
     "data": {
      "text/plain": [
       "[116771,\n",
       " -662642,\n",
       " -391430,\n",
       " 379920,\n",
       " 212354,\n",
       " 510239,\n",
       " -428211,\n",
       " -821271,\n",
       " 693918,\n",
       " 416278,\n",
       " -974163,\n",
       " 860159,\n",
       " -1115009,\n",
       " 1033048,\n",
       " 95318,\n",
       " -308093,\n",
       " 99052,\n",
       " -521393,\n",
       " 605450,\n",
       " 231727,\n",
       " -65187,\n",
       " -702716,\n",
       " 177975,\n",
       " -1065544,\n",
       " 1926159,\n",
       " -917805,\n",
       " 898730,\n",
       " -334262,\n",
       " -246499,\n",
       " -64055,\n",
       " -1529236,\n",
       " 1497596,\n",
       " 304914,\n",
       " -635801,\n",
       " 398319,\n",
       " -183161,\n",
       " -37864,\n",
       " -253689,\n",
       " 403655,\n",
       " 94168,\n",
       " 306877,\n",
       " -83000,\n",
       " 210462,\n",
       " -2196167,\n",
       " 1465222,\n",
       " -956983,\n",
       " 1838447,\n",
       " -468003,\n",
       " -64602,\n",
       " 206242,\n",
       " -242155,\n",
       " -449079,\n",
       " 315198,\n",
       " 241099,\n",
       " 111540,\n",
       " 365942,\n",
       " -219310,\n",
       " -368665,\n",
       " 409837,\n",
       " 151210,\n",
       " -110244,\n",
       " -341938,\n",
       " -1212159,\n",
       " 683246,\n",
       " -70825,\n",
       " 335594,\n",
       " 417334,\n",
       " -272194,\n",
       " -236462,\n",
       " 657432,\n",
       " -211262,\n",
       " -128237,\n",
       " -1750387,\n",
       " 925441,\n",
       " 932089,\n",
       " -311434,\n",
       " 267252,\n",
       " -1876758,\n",
       " 1733696,\n",
       " 198551,\n",
       " -665765,\n",
       " 693229,\n",
       " -734926,\n",
       " 77242,\n",
       " 532869]"
      ]
     },
     "execution_count": 9,
     "metadata": {},
     "output_type": "execute_result"
    }
   ],
   "source": [
    "monthly_profit_change"
   ]
  },
  {
   "cell_type": "code",
   "execution_count": 10,
   "metadata": {},
   "outputs": [],
   "source": [
    "# Max and min from monthly profit change list\n",
    "max_up = max(monthly_profit_change)\n",
    "max_down = min(monthly_profit_change)"
   ]
  },
  {
   "cell_type": "code",
   "execution_count": 11,
   "metadata": {},
   "outputs": [
    {
     "data": {
      "text/plain": [
       "1926159"
      ]
     },
     "execution_count": 11,
     "metadata": {},
     "output_type": "execute_result"
    }
   ],
   "source": [
    "max_up"
   ]
  },
  {
   "cell_type": "code",
   "execution_count": 12,
   "metadata": {},
   "outputs": [
    {
     "data": {
      "text/plain": [
       "-2196167"
      ]
     },
     "execution_count": 12,
     "metadata": {},
     "output_type": "execute_result"
    }
   ],
   "source": [
    "max_down"
   ]
  },
  {
   "cell_type": "code",
   "execution_count": 14,
   "metadata": {},
   "outputs": [],
   "source": [
    "# Link up the max and min to the corresponding month using month list and index from max / min\n",
    "max_increase_month = monthly_profit_change.index(max(monthly_profit_change)) + 1\n",
    "max_decrease_month = monthly_profit_change.index(min(monthly_profit_change)) + 1 "
   ]
  },
  {
   "cell_type": "code",
   "execution_count": 15,
   "metadata": {},
   "outputs": [
    {
     "data": {
      "text/plain": [
       "25"
      ]
     },
     "execution_count": 15,
     "metadata": {},
     "output_type": "execute_result"
    }
   ],
   "source": [
    "max_increase_month"
   ]
  },
  {
   "cell_type": "code",
   "execution_count": 16,
   "metadata": {},
   "outputs": [
    {
     "data": {
      "text/plain": [
       "44"
      ]
     },
     "execution_count": 16,
     "metadata": {},
     "output_type": "execute_result"
    }
   ],
   "source": [
    "max_decrease_month"
   ]
  },
  {
   "cell_type": "code",
   "execution_count": null,
   "metadata": {},
   "outputs": [],
   "source": [
    "# Print to Bash\n",
    "print(\"Financial Analysis\")\n",
    "print(\"----------------------------\")\n",
    "print(f\"Total Months: {len(months)}\")\n",
    "print(f\"Total Profit: ${sum(profit)}\")\n",
    "print(f\"Average Change: ${round(sum(monthly_profit_change)/len(monthly_profit_change),2)}\")\n",
    "print(f\"Greatest Increase in Profits: {months[max_increase_month]} (${(str(max_up))})\")\n",
    "print(f\"Greatest Decrease in Profits: {months[max_decrease_month]} (${(str(max_down))})\")"
   ]
  },
  {
   "cell_type": "code",
   "execution_count": null,
   "metadata": {},
   "outputs": [],
   "source": [
    "# Output file\n",
    "output_file = os.path.join('Financial_Analysis_Summary.txt')"
   ]
  },
  {
   "cell_type": "code",
   "execution_count": null,
   "metadata": {},
   "outputs": [],
   "source": [
    "with open(output_file,\"w\") as datafile:\n",
    "    \n",
    "# Write Financial Analysis to .txt file \n",
    "    datafile.write(\"Financial Analysis\")\n",
    "    datafile.write(\"\\n\")\n",
    "    datafile.write(\"----------------------------\")\n",
    "    datafile.write(\"\\n\")\n",
    "    datafile.write(f\"Total Months: {len(months)}\")\n",
    "    datafile.write(\"\\n\")\n",
    "    datafile.write(f\"Total Profit: ${sum(profit)}\")\n",
    "    datafile.write(\"\\n\")\n",
    "    datafile.write(f\"Average Change: ${round(sum(monthly_profit_change)/len(monthly_profit_change),2)}\")\n",
    "    datafile.write(\"\\n\")\n",
    "    datafile.write(f\"Greatest Increase in Profits: {months[max_increase_month]} (${(str(max_up))})\")\n",
    "    datafile.write(\"\\n\")\n",
    "    datafile.write(f\"Greatest Decrease in Profits: {months[max_decrease_month]} (${(str(max_down))})\")"
   ]
  },
  {
   "cell_type": "code",
   "execution_count": null,
   "metadata": {},
   "outputs": [],
   "source": []
  },
  {
   "cell_type": "code",
   "execution_count": null,
   "metadata": {},
   "outputs": [],
   "source": []
  }
 ],
 "metadata": {
  "kernelspec": {
   "display_name": "Python (PythonData)",
   "language": "python",
   "name": "myenv"
  },
  "language_info": {
   "codemirror_mode": {
    "name": "ipython",
    "version": 3
   },
   "file_extension": ".py",
   "mimetype": "text/x-python",
   "name": "python",
   "nbconvert_exporter": "python",
   "pygments_lexer": "ipython3",
   "version": "3.8.5"
  }
 },
 "nbformat": 4,
 "nbformat_minor": 4
}
